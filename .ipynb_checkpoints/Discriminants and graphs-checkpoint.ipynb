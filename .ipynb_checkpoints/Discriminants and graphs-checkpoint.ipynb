{
 "cells": [
  {
   "cell_type": "markdown",
   "metadata": {},
   "source": [
    "# Discriminants \n",
    "\n",
    "### We know the $x$-intercepts of a quadratic graph $$y=ax^{2}+bx+c$$ can be found using the quadratic formula: $$x=\\frac{-b\\pm\\sqrt{b^{2}-4ac}}{2a}$$\n",
    "\n",
    "### The **discriminant** of a quadratic equation is:  $$\\vartriangle=b^{2}-4ac$$"
   ]
  },
  {
   "cell_type": "markdown",
   "metadata": {},
   "source": [
    "## Instructions for Geogebra activity:\n",
    "\n",
    "### In this activity you will investigate how the discriminant affects the appearance of a quadratic graph.\n",
    "\n",
    "### Task 1\n",
    "\n",
    "#### Use the sliders to vary $a$, $b$ and $c$. What observations can you make about the $x$-intercepts, discriminant and the position of your graph?\n",
    "\n",
    "### Task 2\n",
    "\n",
    "#### Fix $b$ and $c$ and vary $a$. What observations can you make about $a$? Can you express this mathematically?\n",
    "\n",
    "### Task 3\n",
    "\n",
    "#### Fix $a$ and $b$ and vary $c$. What observations can you make about $c$? Can you express this mathematically?\n",
    "\n",
    "### Task 4\n",
    "\n",
    "#### Now fix $a$ and $c$; vary $b$. At what points does the graph only touch the $x$-axis? For what values of $b$ does the graph not intersect or touch the $x$-axis?\n"
   ]
  }
 ],
 "metadata": {
  "kernelspec": {
   "display_name": "Python 3",
   "language": "python",
   "name": "python3"
  },
  "language_info": {
   "codemirror_mode": {
    "name": "ipython",
    "version": 3
   },
   "file_extension": ".py",
   "mimetype": "text/x-python",
   "name": "python",
   "nbconvert_exporter": "python",
   "pygments_lexer": "ipython3",
   "version": "3.5.2"
  }
 },
 "nbformat": 4,
 "nbformat_minor": 2
}
